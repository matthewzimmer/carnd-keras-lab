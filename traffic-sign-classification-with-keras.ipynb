{
 "cells": [
  {
   "cell_type": "markdown",
   "metadata": {},
   "source": [
    "# Traffic Sign Classification with Keras\n",
    "\n",
    "Keras exists to make coding deep neural networks simpler. To demonstrate just how easy it is, you’re going to use Keras to build a convolutional neural network in a few dozen lines of code.\n",
    "\n",
    "You’ll be connecting the concepts from the previous lessons to the methods that Keras provides."
   ]
  },
  {
   "cell_type": "markdown",
   "metadata": {},
   "source": [
    "## Dataset\n",
    "\n",
    "The network you'll build with Keras is similar to the example that you can find in Keras’s GitHub repository that builds out a [convolutional neural network for MNIST](https://github.com/fchollet/keras/blob/master/examples/mnist_cnn.py). \n",
    "\n",
    "However, instead of using the [MNIST](http://yann.lecun.com/exdb/mnist/) dataset, you're going to use the [German Traffic Sign Recognition Benchmark](http://benchmark.ini.rub.de/?section=gtsrb&subsection=news) dataset that you've used previously.\n",
    "\n",
    "You can download pickle files with sanitized traffic sign data here."
   ]
  },
  {
   "cell_type": "markdown",
   "metadata": {},
   "source": [
    "## Overview\n",
    "\n",
    "Here are the steps you'll take to build the network:\n",
    "\n",
    "1. First load the data.\n",
    "2. Build a feedforward neural network to classify traffic signs.\n",
    "3. Build a convolutional neural network to classify traffic signs.\n",
    "\n",
    "Keep an eye on the network’s accuracy over time. Once the accuracy reaches the 98% range, you can be confident that you’ve built and trained an effective model."
   ]
  },
  {
   "cell_type": "markdown",
   "metadata": {},
   "source": [
    "## Load the Data\n",
    "\n",
    "Start by importing the data from the pickle file."
   ]
  },
  {
   "cell_type": "code",
   "execution_count": 1,
   "metadata": {
    "collapsed": false
   },
   "outputs": [
    {
     "name": "stdout",
     "output_type": "stream",
     "text": [
      " \n",
      "One-Hot Encoded:             True\n",
      "Train/Validation Split %:    0\n",
      " \n",
      "Training size:               39209\n",
      "Validation size:             0\n",
      "Testing size:                12630\n",
      "Predicting size:             13\n",
      "Total classes:               43\n",
      " \n",
      "Training orig shape:         (39209, 32, 32, 3)\n",
      "Training gray shape:         (39209, 32, 32)\n",
      "Training flat shape:         (39209, 1024)\n",
      " \n",
      "Validation orig shape:       (0,)\n",
      "Validation gray shape:       (0,)\n",
      "Validation flat shape:       (0,)\n",
      " \n",
      "Testing orig shape:          (12630, 32, 32, 3)\n",
      "Testing gray shape:          (12630, 32, 32)\n",
      "Testing flat shape:          (12630, 1024)\n",
      " \n",
      "Predicting orig shape:       (13, 32, 32, 3)\n",
      "Predicting gray shape:       (13, 32, 32)\n",
      "Predicting flat shape:       (13, 1024)\n",
      " \n",
      "Training label shape:        (39209, 43)\n",
      "Validation flat label shape: (0,)\n",
      "Testing gray label shape:    (12630, 43)\n",
      " \n",
      "Class counts:\n",
      " \n",
      "Sign names:\n",
      " \n",
      "  class - no. train - sign name\n",
      " \n",
      "  0 -  210 - Speed limit (20km/h)\n",
      "  1 -  2220 - Speed limit (30km/h)\n",
      "  2 -  2250 - Speed limit (50km/h)\n",
      "  3 -  1410 - Speed limit (60km/h)\n",
      "  4 -  1980 - Speed limit (70km/h)\n",
      "  5 -  1860 - Speed limit (80km/h)\n",
      "  6 -  420 - End of speed limit (80km/h)\n",
      "  7 -  1440 - Speed limit (100km/h)\n",
      "  8 -  1410 - Speed limit (120km/h)\n",
      "  9 -  1470 - No passing\n",
      "  10 -  2010 - No passing for vechiles over 3.5 metric tons\n",
      "  11 -  1320 - Right-of-way at the next intersection\n",
      "  12 -  2100 - Priority road\n",
      "  13 -  2160 - Yield\n",
      "  14 -  780 - Stop\n",
      "  15 -  630 - No vechiles\n",
      "  16 -  420 - Vechiles over 3.5 metric tons prohibited\n",
      "  17 -  1110 - No entry\n",
      "  18 -  1200 - General caution\n",
      "  19 -  210 - Dangerous curve to the left\n",
      "  20 -  360 - Dangerous curve to the right\n",
      "  21 -  330 - Double curve\n",
      "  22 -  390 - Bumpy road\n",
      "  23 -  510 - Slippery road\n",
      "  24 -  270 - Road narrows on the right\n",
      "  25 -  1500 - Road work\n",
      "  26 -  600 - Traffic signals\n",
      "  27 -  240 - Pedestrians\n",
      "  28 -  540 - Children crossing\n",
      "  29 -  270 - Bicycles crossing\n",
      "  30 -  450 - Beware of ice/snow\n",
      "  31 -  780 - Wild animals crossing\n",
      "  32 -  240 - End of all speed and passing limits\n",
      "  33 -  689 - Turn right ahead\n",
      "  34 -  420 - Turn left ahead\n",
      "  35 -  1200 - Ahead only\n",
      "  36 -  390 - Go straight or right\n",
      "  37 -  210 - Go straight or left\n",
      "  38 -  2070 - Keep right\n",
      "  39 -  300 - Keep left\n",
      "  40 -  360 - Roundabout mandatory\n",
      "  41 -  240 - End of no passing\n",
      "  42 -  240 - End of no passing by vechiles over 3.5 metric tons\n",
      " \n"
     ]
    }
   ],
   "source": [
    "import numpy as np\n",
    "\n",
    "# TODO: Implement load the data here.\n",
    "from zimpy.datasets.german_traffic_signs import GermanTrafficSignDataset\n",
    "\n",
    "data = GermanTrafficSignDataset()\n",
    "data.configure(one_hot=True, train_validate_split_percentage=0)\n",
    "\n",
    "X_train = data.train_orig\n",
    "y_train = data.train_labels\n",
    "\n",
    "print(data)\n",
    "\n",
    "# STOP: Do not change the tests below. Your implementation should pass these tests. \n",
    "assert(X_train.shape[0] == y_train.shape[0]), \"The number of images is not equal to the number of labels.\"\n",
    "assert(X_train.shape[1:] == (32,32,3)), \"The dimensions of the images are not 32 x 32 x 3.\""
   ]
  },
  {
   "cell_type": "markdown",
   "metadata": {},
   "source": [
    "## Normalize the data\n",
    "\n",
    "Now that you've loaded the training data, normalize the input so that it has a mean of 0 and a range between -0.5 and 0.5."
   ]
  },
  {
   "cell_type": "code",
   "execution_count": 2,
   "metadata": {
    "collapsed": false
   },
   "outputs": [],
   "source": [
    "# TODO: Implement data normalization here.\n",
    "X_train = data.normalize_data(X_train)\n",
    "\n",
    "# STOP: Do not change the tests below. Your implementation should pass these tests. \n",
    "assert(round(np.mean(X_train)) == 0), \"The mean of the input data is: %f\" % np.mean(X_train)\n",
    "assert(np.min(X_train) == -0.5 and np.max(X_train) == 0.5), \"The range of the input data is: %.1f to %.1f\" % (np.min(X_train), np.max(X_train))"
   ]
  },
  {
   "cell_type": "markdown",
   "metadata": {},
   "source": [
    "## Build a Two-Layer Feedfoward Network\n",
    "\n",
    "The code you've written so far is for data processing, not specific to Keras. Here you're going to build Keras-specific code.\n",
    "\n",
    "Build a two-layer feedforward neural network, with 128 neurons in the fully-connected hidden layer. \n",
    "\n",
    "To get started, review the Keras documentation about [models](https://keras.io/models/sequential/) and [layers](https://keras.io/layers/core/).\n",
    "\n",
    "The Keras example of a [Multi-Layer Perceptron](https://github.com/fchollet/keras/blob/master/examples/mnist_mlp.py) network is similar to what you need to do here. Use that as a guide, but keep in mind that there are a number of differences."
   ]
  },
  {
   "cell_type": "code",
   "execution_count": 3,
   "metadata": {
    "collapsed": false
   },
   "outputs": [
    {
     "name": "stderr",
     "output_type": "stream",
     "text": [
      "Using TensorFlow backend.\n"
     ]
    },
    {
     "name": "stdout",
     "output_type": "stream",
     "text": [
      "____________________________________________________________________________________________________\n",
      "Layer (type)                     Output Shape          Param #     Connected to                     \n",
      "====================================================================================================\n",
      "hidden1 (Dense)                  (None, 128)           393344      dense_input_1[0][0]              \n",
      "____________________________________________________________________________________________________\n",
      "activation_1 (Activation)        (None, 128)           0           hidden1[0][0]                    \n",
      "____________________________________________________________________________________________________\n",
      "dense_1 (Dense)                  (None, 43)            5547        activation_1[0][0]               \n",
      "____________________________________________________________________________________________________\n",
      "output (Activation)              (None, 43)            0           dense_1[0][0]                    \n",
      "====================================================================================================\n",
      "Total params: 398891\n",
      "____________________________________________________________________________________________________\n"
     ]
    }
   ],
   "source": [
    "from keras.layers import Dense, Activation, Flatten\n",
    "from keras.models import Sequential\n",
    "from keras.utils import np_utils\n",
    "\n",
    "# TODO: Build a two-layer feedforward neural network with Keras here.\n",
    "# as first layer in a sequential model:\n",
    "model = Sequential(name='input')\n",
    "model.add(Dense(128, input_dim=32*32*3, name='hidden1'))\n",
    "# model.add(Flatten())\n",
    "model.add(Activation('relu'))\n",
    "model.add(Dense(data.num_classes))\n",
    "model.add(Activation('softmax', name='output'))\n",
    "\n",
    "model.summary()\n",
    "\n",
    "# STOP: Do not change the tests below. Your implementation should pass these tests.\n",
    "assert(model.get_layer(name=\"hidden1\").input_shape == (None, 32*32*3)), \"The input shape is: %s\" % model.get_layer(name=\"hidden1\").input_shape\n",
    "assert(model.get_layer(name=\"output\").output_shape == (None, 43)), \"The output shape is: %s\" % model.get_layer(name=\"output\").output_shape"
   ]
  },
  {
   "cell_type": "markdown",
   "metadata": {},
   "source": [
    "## Train the Network\n",
    "Compile and train the network for 2 epochs. [Use the `adam` optimizer, with `categorical_crossentropy` loss.](https://keras.io/models/sequential/)\n",
    "\n",
    "Hint 1: In order to use categorical cross entropy, you will need to [one-hot encode the labels](https://github.com/fchollet/keras/blob/master/keras/utils/np_utils.py).\n",
    "\n",
    "Hint 2: In order to pass the input images to the fully-connected hidden layer, you will need to [reshape the input](https://github.com/fchollet/keras/blob/master/examples/mnist_mlp.py).\n",
    "\n",
    "Hint 3: Keras's `.fit()` method returns a `History.history` object, which the tests below use. Save that to a variable named `history`."
   ]
  },
  {
   "cell_type": "code",
   "execution_count": 4,
   "metadata": {
    "collapsed": false
   },
   "outputs": [
    {
     "name": "stdout",
     "output_type": "stream",
     "text": [
      "Epoch 1/2\n",
      "39209/39209 [==============================] - 3s - loss: 1.6054 - acc: 0.5847     \n",
      "Epoch 2/2\n",
      "39209/39209 [==============================] - 3s - loss: 0.7299 - acc: 0.8125     \n"
     ]
    }
   ],
   "source": [
    "# TODO: Compile and train the model here.\n",
    "batch_size = 128\n",
    "nb_classes = data.num_classes\n",
    "nb_epoch = 2\n",
    "\n",
    "X_train = X_train.reshape(X_train.shape[0], 32*32*3)\n",
    "X_train = X_train.astype('float32')\n",
    "\n",
    "model.compile(optimizer='adam',\n",
    "          loss='categorical_crossentropy',\n",
    "          metrics=['accuracy'])\n",
    "\n",
    "history = model.fit(X_train, y_train,\n",
    "                    batch_size=batch_size, nb_epoch=nb_epoch,\n",
    "                    verbose=1)\n",
    "\n",
    "# STOP: Do not change the tests below. Your implementation should pass these tests.\n",
    "assert(history.history['acc'][0] > 0.5), \"The training accuracy was: %.3f\" % history.history['acc']"
   ]
  },
  {
   "cell_type": "markdown",
   "metadata": {},
   "source": [
    "## Validate the Network\n",
    "Split the training data into a training and validation set.\n",
    "\n",
    "Measure the [validation accuracy](https://keras.io/models/sequential/) of the network after two training epochs.\n",
    "\n",
    "Hint: [Use the `train_test_split()` method](http://scikit-learn.org/stable/modules/generated/sklearn.model_selection.train_test_split.html) from scikit-learn."
   ]
  },
  {
   "cell_type": "code",
   "execution_count": 6,
   "metadata": {
    "collapsed": false
   },
   "outputs": [
    {
     "name": "stdout",
     "output_type": "stream",
     "text": [
      "Train on 22054 samples, validate on 7352 samples\n",
      "Epoch 1/2\n",
      "22054/22054 [==============================] - 3s - loss: 0.4033 - acc: 0.8957 - val_loss: 0.3321 - val_acc: 0.9195\n",
      "Epoch 2/2\n",
      "22054/22054 [==============================] - 3s - loss: 0.3499 - acc: 0.9096 - val_loss: 0.3259 - val_acc: 0.9108\n",
      "7296/7352 [============================>.] - ETA: 0s"
     ]
    }
   ],
   "source": [
    "from sklearn.model_selection import train_test_split\n",
    "\n",
    "# TODO: Split some of the training data into a validation dataset.\n",
    "X_train, X_val, y_train, y_val = train_test_split(\n",
    "            X_train,\n",
    "            y_train,\n",
    "            test_size=0.25,\n",
    "            random_state=832224)\n",
    "\n",
    "# TODO: Compile and train the model to measure validation accuracy.\n",
    "history = model.fit(X_train, y_train,\n",
    "                    batch_size=batch_size, nb_epoch=nb_epoch,\n",
    "                    verbose=1, validation_data=(X_val, y_val))\n",
    "\n",
    "score = model.evaluate(X_val, y_val, verbose=1)\n",
    "\n",
    "# STOP: Do not change the tests below. Your implementation should pass these tests.\n",
    "assert(round(X_train.shape[0] / float(X_val.shape[0])) == 3), \"The training set is %.3f times larger than the validation set.\" % X_train.shape[0] / float(X_val.shape[0])\n",
    "assert(history.history['val_acc'][0] > 0.6), \"The validation accuracy is: %.3f\" % history.history['val_acc'][0]"
   ]
  },
  {
   "cell_type": "markdown",
   "metadata": {},
   "source": [
    "**Validation Accuracy**: 0.9036"
   ]
  },
  {
   "cell_type": "markdown",
   "metadata": {},
   "source": [
    "## Congratulations\n",
    "You've built a feedforward neural network in Keras!\n",
    "\n",
    "Don't stop here! Next, you'll add a convolutional layer to drive.py."
   ]
  },
  {
   "cell_type": "markdown",
   "metadata": {},
   "source": [
    "## Convolutions\n",
    "Build a new network, similar to your existing network. Before the hidden layer, add a 3x3 [convolutional layer](https://keras.io/layers/convolutional/#convolution2d) with 32 filters and valid padding.\n",
    "\n",
    "Then compile and train the network.\n",
    "\n",
    "Hint 1: The Keras example of a [convolutional neural network](https://github.com/fchollet/keras/blob/master/examples/mnist_cnn.py) for MNIST would be a good example to review.\n",
    "\n",
    "Hint 2: Now that the first layer of the network is a convolutional layer, you no longer need to reshape the input images before passing them to the network. You might need to reload your training data to recover the original shape.\n",
    "\n",
    "Hint 3: Add a [`Flatten()` layer](https://keras.io/layers/core/#flatten) between the convolutional layer and the fully-connected hidden layer."
   ]
  },
  {
   "cell_type": "code",
   "execution_count": 7,
   "metadata": {
    "collapsed": false
   },
   "outputs": [
    {
     "name": "stdout",
     "output_type": "stream",
     "text": [
      "____________________________________________________________________________________________________\n",
      "Layer (type)                     Output Shape          Param #     Connected to                     \n",
      "====================================================================================================\n",
      "convolution2d_1 (Convolution2D)  (None, 30, 30, 32)    896         convolution2d_input_1[0][0]      \n",
      "____________________________________________________________________________________________________\n",
      "flatten_1 (Flatten)              (None, 28800)         0           convolution2d_1[0][0]            \n",
      "____________________________________________________________________________________________________\n",
      "hidden1 (Dense)                  (None, 128)           3686528     flatten_1[0][0]                  \n",
      "____________________________________________________________________________________________________\n",
      "activation_2 (Activation)        (None, 128)           0           hidden1[0][0]                    \n",
      "____________________________________________________________________________________________________\n",
      "dense_2 (Dense)                  (None, 43)            5547        activation_2[0][0]               \n",
      "____________________________________________________________________________________________________\n",
      "output (Activation)              (None, 43)            0           dense_2[0][0]                    \n",
      "====================================================================================================\n",
      "Total params: 3692971\n",
      "____________________________________________________________________________________________________\n",
      "Train on 29406 samples, validate on 9803 samples\n",
      "Epoch 1/2\n",
      "29406/29406 [==============================] - 41s - loss: 0.9452 - acc: 0.7556 - val_loss: 0.3228 - val_acc: 0.9163\n",
      "Epoch 2/2\n",
      "29406/29406 [==============================] - 46s - loss: 0.2276 - acc: 0.9422 - val_loss: 0.2179 - val_acc: 0.9471\n",
      "9803/9803 [==============================] - 4s     \n"
     ]
    }
   ],
   "source": [
    "from keras.layers import Dense, Activation, Flatten, Convolution2D\n",
    "from keras.models import Sequential\n",
    "from keras.utils import np_utils\n",
    "\n",
    "data = GermanTrafficSignDataset()\n",
    "data.configure(one_hot=True, train_validate_split_percentage=0)\n",
    "\n",
    "X_train = data.train_orig\n",
    "y_train = data.train_labels\n",
    "\n",
    "X_train = data.normalize_data(X_train)\n",
    "X_train = X_train.astype('float32')\n",
    "\n",
    "# convert class vectors to binary class matrices\n",
    "# Y_train = np_utils.to_categorical(y_train, nb_classes)\n",
    "\n",
    "# TODO: Re-construct the network and add a convolutional layer before the first fully-connected layer.\n",
    "model = Sequential(name='input')\n",
    "model.add(Convolution2D(32, 3, 3, border_mode='valid', input_shape=(32, 32, 3)))\n",
    "model.add(Dense(128, name='hidden1'))\n",
    "model.add(Activation('relu'))\n",
    "model.add(Dense(data.num_classes))\n",
    "model.add(Activation('softmax', name='output'))\n",
    "\n",
    "model.summary()\n",
    "\n",
    "# TODO: Compile and train the model.\n",
    "batch_size = 128\n",
    "nb_classes = data.num_classes\n",
    "nb_epoch = 2\n",
    "\n",
    "model.compile(optimizer='adam',\n",
    "          loss='categorical_crossentropy',\n",
    "          metrics=['accuracy'])\n",
    "\n",
    "# history = model.fit(X_train, y_train,\n",
    "#                    batch_size=batch_size, nb_epoch=nb_epoch,\n",
    "#                     verbose=1)\n",
    "\n",
    "from sklearn.model_selection import train_test_split\n",
    "\n",
    "# TODO: Split some of the training data into a validation dataset.\n",
    "X_train, X_val, y_train, y_val = train_test_split(\n",
    "            X_train,\n",
    "            y_train,\n",
    "            test_size=0.25,\n",
    "            random_state=832224)\n",
    "\n",
    "# TODO: Compile and train the model to measure validation accuracy.\n",
    "history = model.fit(X_train, y_train,\n",
    "                    batch_size=batch_size, nb_epoch=nb_epoch,\n",
    "                    verbose=1, validation_data=(X_val, y_val))\n",
    "\n",
    "score = model.evaluate(X_val, y_val, verbose=1)\n",
    "\n",
    "# STOP: Do not change the tests below. Your implementation should pass these tests.\n",
    "assert(history.history['val_acc'][0] > 0.9), \"The validation accuracy is: %.3f\" % history.history['val_acc'][0]"
   ]
  },
  {
   "cell_type": "markdown",
   "metadata": {},
   "source": [
    "**Validation Accuracy**: 0.9471"
   ]
  },
  {
   "cell_type": "markdown",
   "metadata": {},
   "source": [
    "## Pooling\n",
    "Re-construct your network and add a 2x2 [pooling layer](https://keras.io/layers/pooling/#maxpooling2d) immediately following your convolutional layer.\n",
    "\n",
    "Then compile and train the network."
   ]
  },
  {
   "cell_type": "code",
   "execution_count": 23,
   "metadata": {
    "collapsed": false
   },
   "outputs": [
    {
     "name": "stdout",
     "output_type": "stream",
     "text": [
      "____________________________________________________________________________________________________\n",
      "Layer (type)                     Output Shape          Param #     Connected to                     \n",
      "====================================================================================================\n",
      "convolution2d_16 (Convolution2D) (None, 30, 30, 32)    896         convolution2d_input_16[0][0]     \n",
      "____________________________________________________________________________________________________\n",
      "maxpooling2d_16 (MaxPooling2D)   (None, 15, 15, 32)    0           convolution2d_16[0][0]           \n",
      "____________________________________________________________________________________________________\n",
      "flatten_15 (Flatten)             (None, 7200)          0           maxpooling2d_16[0][0]            \n",
      "____________________________________________________________________________________________________\n",
      "hidden1 (Dense)                  (None, 128)           921728      flatten_15[0][0]                 \n",
      "____________________________________________________________________________________________________\n",
      "activation_18 (Activation)       (None, 128)           0           hidden1[0][0]                    \n",
      "____________________________________________________________________________________________________\n",
      "dense_16 (Dense)                 (None, 43)            5547        activation_18[0][0]              \n",
      "____________________________________________________________________________________________________\n",
      "output (Activation)              (None, 43)            0           dense_16[0][0]                   \n",
      "====================================================================================================\n",
      "Total params: 928171\n",
      "____________________________________________________________________________________________________\n",
      "Train on 29406 samples, validate on 9803 samples\n",
      "Epoch 1/2\n",
      "29406/29406 [==============================] - 22s - loss: 1.3256 - acc: 0.6576 - val_loss: 0.5111 - val_acc: 0.8614\n",
      "Epoch 2/2\n",
      "29406/29406 [==============================] - 21s - loss: 0.3285 - acc: 0.9211 - val_loss: 0.2566 - val_acc: 0.9409\n"
     ]
    }
   ],
   "source": [
    "# TODO: Re-construct the network and add a pooling layer after the convolutional layer.\n",
    "# TODO: Compile and train the model.\n",
    "\n",
    "from keras.layers import Dense, Activation, Flatten, Convolution2D, MaxPooling2D\n",
    "from keras.models import Sequential\n",
    "from keras.utils import np_utils\n",
    "from sklearn.model_selection import train_test_split\n",
    "\n",
    "data = GermanTrafficSignDataset()\n",
    "data.configure(one_hot=True, train_validate_split_percentage=0)\n",
    "\n",
    "X_train = data.train_orig\n",
    "y_train = data.train_labels\n",
    "\n",
    "X_train = data.normalize_data(X_train)\n",
    "X_train = X_train.astype('float32')\n",
    "\n",
    "# convert class vectors to binary class matrices\n",
    "# Y_train = np_utils.to_categorical(y_train, nb_classes)\n",
    "\n",
    "# TODO: Re-construct the network and add a convolutional layer before the first fully-connected layer.\n",
    "model = Sequential(name='input')\n",
    "model.add(Convolution2D(32, 3, 3, border_mode='valid', input_shape=(32, 32, 3)))\n",
    "model.add(MaxPooling2D(pool_size=(2, 2)))\n",
    "model.add(Flatten())\n",
    "model.add(Dense(128, name='hidden1'))\n",
    "model.add(Activation('relu'))\n",
    "model.add(Dense(data.num_classes))\n",
    "model.add(Activation('softmax', name='output'))\n",
    "\n",
    "model.summary()\n",
    "\n",
    "# TODO: Compile and train the model.\n",
    "batch_size = 128\n",
    "nb_classes = data.num_classes\n",
    "nb_epoch = 2\n",
    "\n",
    "model.compile(optimizer='adam',\n",
    "          loss='categorical_crossentropy',\n",
    "          metrics=['accuracy'])\n",
    "\n",
    "# TODO: Split some of the training data into a validation dataset.\n",
    "X_train, X_val, y_train, y_val = train_test_split(\n",
    "            X_train,\n",
    "            y_train,\n",
    "            test_size=0.25,\n",
    "            random_state=832224)\n",
    "\n",
    "# TODO: Compile and train the model to measure validation accuracy.\n",
    "history = model.fit(X_train, y_train,\n",
    "                    batch_size=batch_size, nb_epoch=nb_epoch,\n",
    "                    verbose=1, validation_data=(X_val, y_val))\n",
    "\n",
    "# score = model.evaluate(X_val, y_val, verbose=1)\n",
    "# print('Validation (loss, accuracy): (%.3f, %.3f)' % (score[0], score[1]))\n",
    "\n",
    "# STOP: Do not change the tests below. Your implementation should pass these tests.\n",
    "assert(history.history['val_acc'][-1] > 0.9), \"The validation accuracy is: %.3f\" % history.history['val_acc'][-1]"
   ]
  },
  {
   "cell_type": "markdown",
   "metadata": {},
   "source": [
    "**Validation Accuracy**: 0.9409"
   ]
  },
  {
   "cell_type": "markdown",
   "metadata": {},
   "source": [
    "## Dropout\n",
    "Re-construct your network and add [dropout](https://keras.io/layers/core/#dropout) after the pooling layer. Set the dropout rate to 50%."
   ]
  },
  {
   "cell_type": "code",
   "execution_count": 24,
   "metadata": {
    "collapsed": false
   },
   "outputs": [
    {
     "name": "stdout",
     "output_type": "stream",
     "text": [
      "____________________________________________________________________________________________________\n",
      "Layer (type)                     Output Shape          Param #     Connected to                     \n",
      "====================================================================================================\n",
      "convolution2d_17 (Convolution2D) (None, 30, 30, 32)    896         convolution2d_input_17[0][0]     \n",
      "____________________________________________________________________________________________________\n",
      "maxpooling2d_17 (MaxPooling2D)   (None, 15, 15, 32)    0           convolution2d_17[0][0]           \n",
      "____________________________________________________________________________________________________\n",
      "dropout_3 (Dropout)              (None, 15, 15, 32)    0           maxpooling2d_17[0][0]            \n",
      "____________________________________________________________________________________________________\n",
      "flatten_16 (Flatten)             (None, 7200)          0           dropout_3[0][0]                  \n",
      "____________________________________________________________________________________________________\n",
      "hidden1 (Dense)                  (None, 128)           921728      flatten_16[0][0]                 \n",
      "____________________________________________________________________________________________________\n",
      "activation_19 (Activation)       (None, 128)           0           hidden1[0][0]                    \n",
      "____________________________________________________________________________________________________\n",
      "dense_17 (Dense)                 (None, 43)            5547        activation_19[0][0]              \n",
      "____________________________________________________________________________________________________\n",
      "output (Activation)              (None, 43)            0           dense_17[0][0]                   \n",
      "====================================================================================================\n",
      "Total params: 928171\n",
      "____________________________________________________________________________________________________\n",
      "Train on 29406 samples, validate on 9803 samples\n",
      "Epoch 1/2\n",
      "29406/29406 [==============================] - 25s - loss: 1.4288 - acc: 0.6196 - val_loss: 0.5495 - val_acc: 0.8531\n",
      "Epoch 2/2\n",
      "29406/29406 [==============================] - 25s - loss: 0.4077 - acc: 0.8980 - val_loss: 0.2740 - val_acc: 0.9349\n"
     ]
    }
   ],
   "source": [
    "# TODO: Re-construct the network and add dropout after the pooling layer.\n",
    "# TODO: Compile and train the model.\n",
    "\n",
    "from keras.layers import Dense, Activation, Flatten, Convolution2D, MaxPooling2D, Dropout\n",
    "from keras.models import Sequential\n",
    "from keras.utils import np_utils\n",
    "from sklearn.model_selection import train_test_split\n",
    "\n",
    "data = GermanTrafficSignDataset()\n",
    "data.configure(one_hot=True, train_validate_split_percentage=0)\n",
    "\n",
    "X_train = data.train_orig\n",
    "y_train = data.train_labels\n",
    "\n",
    "X_train = data.normalize_data(X_train)\n",
    "X_train = X_train.astype('float32')\n",
    "\n",
    "# convert class vectors to binary class matrices\n",
    "# Y_train = np_utils.to_categorical(y_train, nb_classes)\n",
    "\n",
    "# TODO: Re-construct the network and add a convolutional layer before the first fully-connected layer.\n",
    "model = Sequential(name='input')\n",
    "model.add(Convolution2D(32, 3, 3, border_mode='valid', input_shape=(32, 32, 3)))\n",
    "model.add(MaxPooling2D(pool_size=(2, 2)))\n",
    "model.add(Dropout(0.5))\n",
    "model.add(Flatten())\n",
    "model.add(Dense(128, name='hidden1'))\n",
    "model.add(Activation('relu'))\n",
    "model.add(Dense(data.num_classes))\n",
    "model.add(Activation('softmax', name='output'))\n",
    "\n",
    "model.summary()\n",
    "\n",
    "# TODO: Compile and train the model.\n",
    "batch_size = 128\n",
    "nb_classes = data.num_classes\n",
    "nb_epoch = 2\n",
    "\n",
    "model.compile(optimizer='adam',\n",
    "          loss='categorical_crossentropy',\n",
    "          metrics=['accuracy'])\n",
    "\n",
    "# TODO: Split some of the training data into a validation dataset.\n",
    "X_train, X_val, y_train, y_val = train_test_split(\n",
    "            X_train,\n",
    "            y_train,\n",
    "            test_size=0.25,\n",
    "            random_state=832224)\n",
    "\n",
    "# TODO: Compile and train the model to measure validation accuracy.\n",
    "history = model.fit(X_train, y_train,\n",
    "                    batch_size=batch_size, nb_epoch=nb_epoch,\n",
    "                    verbose=1, validation_data=(X_val, y_val))\n",
    "\n",
    "# score = model.evaluate(X_val, y_val, verbose=1)\n",
    "# print('Validation (loss, accuracy): (%.3f, %.3f)' % (score[0], score[1]))\n",
    "\n",
    "# STOP: Do not change the tests below. Your implementation should pass these tests.\n",
    "assert(history.history['val_acc'][-1] > 0.9), \"The validation accuracy is: %.3f\" % history.history['val_acc'][-1]"
   ]
  },
  {
   "cell_type": "markdown",
   "metadata": {
    "collapsed": true
   },
   "source": [
    "**Validation Accuracy**: 0.9349"
   ]
  },
  {
   "cell_type": "markdown",
   "metadata": {},
   "source": [
    "## Optimization\n",
    "Congratulations! You've built a neural network with convolutions, pooling, dropout, and fully-connected layers, all in just a few lines of code.\n",
    "\n",
    "Have fun with the model and see how well you can do! Add more layers, or regularization, or different padding, or batches, or more training epochs.\n",
    "\n",
    "What is the best validation accuracy you can achieve?"
   ]
  },
  {
   "cell_type": "code",
   "execution_count": 29,
   "metadata": {
    "collapsed": false
   },
   "outputs": [
    {
     "name": "stdout",
     "output_type": "stream",
     "text": [
      "____________________________________________________________________________________________________\n",
      "Layer (type)                     Output Shape          Param #     Connected to                     \n",
      "====================================================================================================\n",
      "convolution2d_23 (Convolution2D) (None, 28, 28, 32)    2432        convolution2d_input_21[0][0]     \n",
      "____________________________________________________________________________________________________\n",
      "activation_28 (Activation)       (None, 28, 28, 32)    0           convolution2d_23[0][0]           \n",
      "____________________________________________________________________________________________________\n",
      "convolution2d_24 (Convolution2D) (None, 24, 24, 32)    25632       activation_28[0][0]              \n",
      "____________________________________________________________________________________________________\n",
      "activation_29 (Activation)       (None, 24, 24, 32)    0           convolution2d_24[0][0]           \n",
      "____________________________________________________________________________________________________\n",
      "maxpooling2d_21 (MaxPooling2D)   (None, 12, 12, 32)    0           activation_29[0][0]              \n",
      "____________________________________________________________________________________________________\n",
      "dropout_7 (Dropout)              (None, 12, 12, 32)    0           maxpooling2d_21[0][0]            \n",
      "____________________________________________________________________________________________________\n",
      "flatten_20 (Flatten)             (None, 4608)          0           dropout_7[0][0]                  \n",
      "____________________________________________________________________________________________________\n",
      "hidden1 (Dense)                  (None, 128)           589952      flatten_20[0][0]                 \n",
      "____________________________________________________________________________________________________\n",
      "activation_30 (Activation)       (None, 128)           0           hidden1[0][0]                    \n",
      "____________________________________________________________________________________________________\n",
      "dense_21 (Dense)                 (None, 43)            5547        activation_30[0][0]              \n",
      "____________________________________________________________________________________________________\n",
      "output (Activation)              (None, 43)            0           dense_21[0][0]                   \n",
      "====================================================================================================\n",
      "Total params: 623563\n",
      "____________________________________________________________________________________________________\n",
      "Train on 29406 samples, validate on 9803 samples\n",
      "Epoch 1/12\n",
      "29406/29406 [==============================] - 95s - loss: 1.3219 - acc: 0.6369 - val_loss: 0.2884 - val_acc: 0.9152\n",
      "Epoch 2/12\n",
      "29406/29406 [==============================] - 95s - loss: 0.2585 - acc: 0.9249 - val_loss: 0.1375 - val_acc: 0.9641\n",
      "Epoch 3/12\n",
      "29406/29406 [==============================] - 91s - loss: 0.1459 - acc: 0.9577 - val_loss: 0.0772 - val_acc: 0.9809\n",
      "Epoch 4/12\n",
      "29406/29406 [==============================] - 90s - loss: 0.1030 - acc: 0.9712 - val_loss: 0.0684 - val_acc: 0.9834\n",
      "Epoch 5/12\n",
      "29406/29406 [==============================] - 100s - loss: 0.0747 - acc: 0.9787 - val_loss: 0.0524 - val_acc: 0.9875\n",
      "Epoch 6/12\n",
      "29406/29406 [==============================] - 91s - loss: 0.0599 - acc: 0.9829 - val_loss: 0.0539 - val_acc: 0.9861\n",
      "Epoch 7/12\n",
      "29406/29406 [==============================] - 97s - loss: 0.0608 - acc: 0.9818 - val_loss: 0.0667 - val_acc: 0.9809\n",
      "Epoch 8/12\n",
      "29406/29406 [==============================] - 108s - loss: 0.0477 - acc: 0.9859 - val_loss: 0.0432 - val_acc: 0.9891\n",
      "Epoch 9/12\n",
      "29406/29406 [==============================] - 100s - loss: 0.0390 - acc: 0.9885 - val_loss: 0.0424 - val_acc: 0.9898\n",
      "Epoch 10/12\n",
      "29406/29406 [==============================] - 99s - loss: 0.0349 - acc: 0.9898 - val_loss: 0.0364 - val_acc: 0.9923\n",
      "Epoch 11/12\n",
      "29406/29406 [==============================] - 91s - loss: 0.0318 - acc: 0.9900 - val_loss: 0.0391 - val_acc: 0.9907\n",
      "Epoch 12/12\n",
      "29406/29406 [==============================] - 89s - loss: 0.0300 - acc: 0.9912 - val_loss: 0.0318 - val_acc: 0.9921\n"
     ]
    }
   ],
   "source": [
    "from keras.layers import Dense, Activation, Flatten, Convolution2D, MaxPooling2D, Dropout\n",
    "from keras.models import Sequential\n",
    "from keras.utils import np_utils\n",
    "from sklearn.model_selection import train_test_split\n",
    "from keras import backend as K\n",
    "\n",
    "data = GermanTrafficSignDataset()\n",
    "data.configure(one_hot=True, train_validate_split_percentage=0)\n",
    "\n",
    "X_train = data.train_orig\n",
    "y_train = data.train_labels\n",
    "\n",
    "X_train = data.normalize_data(X_train)\n",
    "X_train = X_train.astype('float32')\n",
    "\n",
    "batch_size = 128\n",
    "nb_classes = data.num_classes\n",
    "nb_epoch = 12\n",
    "\n",
    "# input image dimensions\n",
    "img_rows, img_cols = 32, 32\n",
    "\n",
    "# number of convolutional filters to use\n",
    "nb_filters = 32\n",
    "\n",
    "# number of channels for our input image\n",
    "nb_channels = 3\n",
    "\n",
    "# convolution kernel size\n",
    "kernel_size = (5, 5)\n",
    "\n",
    "# size of pooling area for max pooling\n",
    "pool_size = (2, 2)\n",
    "\n",
    "# number of neurons for our hidden layer\n",
    "hidden_layer_neurons = 128\n",
    "\n",
    "# A float between 0 and 1. Fraction of the input units to drop.\n",
    "dropout_p_1, dropout_p_2 = 0.5, 0.5\n",
    "\n",
    "# If Theano backend, input_shape is different so let's take care of that first\n",
    "if K.image_dim_ordering() == 'th':\n",
    "    X_train = X_train.reshape(X_train.shape[0], nb_channels, img_rows, img_cols)\n",
    "    input_shape = (nb_channels, img_rows, img_cols)\n",
    "else:\n",
    "    X_train = X_train.reshape(X_train.shape[0], img_rows, img_cols, nb_channels)\n",
    "    input_shape = (img_rows, img_cols, nb_channels)\n",
    "\n",
    "\n",
    "# build the model\n",
    "model = Sequential(name='input')\n",
    "model.add(Convolution2D(16, kernel_size[0], kernel_size[1], border_mode='valid', input_shape=input_shape))\n",
    "model.add(Activation('relu'))\n",
    "model.add(Convolution2D(nb_filters, kernel_size[0], kernel_size[1]))\n",
    "model.add(Activation('relu'))\n",
    "model.add(MaxPooling2D(pool_size=pool_size))\n",
    "model.add(Dropout(dropout_p_1))\n",
    "model.add(Flatten())\n",
    "model.add(Dense(hidden_layer_neurons, name='hidden1'))\n",
    "model.add(Activation('relu'))\n",
    "# model.add(Dropout(dropout_p_2))\n",
    "model.add(Dense(data.num_classes))\n",
    "model.add(Activation('softmax', name='output'))\n",
    "\n",
    "# print information about the model itself\n",
    "model.summary()\n",
    "\n",
    "# Compile and train the model.\n",
    "model.compile(optimizer='adam',\n",
    "          loss='categorical_crossentropy',\n",
    "          metrics=['accuracy'])\n",
    "\n",
    "# Split some of the training data into a validation dataset.\n",
    "X_train, X_val, y_train, y_val = train_test_split(\n",
    "            X_train,\n",
    "            y_train,\n",
    "            test_size=0.25,\n",
    "            random_state=832224)\n",
    "\n",
    "history = model.fit(X_train, y_train,\n",
    "                    batch_size=batch_size, nb_epoch=nb_epoch,\n",
    "                    verbose=1, validation_data=(X_val, y_val))\n",
    "\n",
    "# STOP: Do not change the tests below. Your implementation should pass these tests.\n",
    "assert(history.history['val_acc'][-1] > 0.9), \"The validation accuracy is: %.3f\" % history.history['val_acc'][-1]"
   ]
  },
  {
   "cell_type": "markdown",
   "metadata": {},
   "source": [
    "**Best Validation Accuracy:** 0.9921"
   ]
  },
  {
   "cell_type": "markdown",
   "metadata": {},
   "source": [
    "## Testing\n",
    "Once you've picked out your best model, it's time to test it.\n",
    "\n",
    "Load up the test data and use the [`evaluate()` method](https://keras.io/models/model/#evaluate) to see how well it does.\n",
    "\n",
    "Hint 1: After you load your test data, don't forget to normalize the input and one-hot encode the output, so it matches the training data.\n",
    "\n",
    "Hint 2: The `evaluate()` method should return an array of numbers. Use the `metrics_names()` method to get the labels."
   ]
  },
  {
   "cell_type": "code",
   "execution_count": 30,
   "metadata": {
    "collapsed": false
   },
   "outputs": [
    {
     "name": "stdout",
     "output_type": "stream",
     "text": [
      "12630/12630 [==============================] - 15s    \n",
      "loss:  0.298437518168\n",
      "accuracy:  0.942834520972\n",
      "\n"
     ]
    }
   ],
   "source": [
    "# with open('./test.p', mode='rb') as f:\n",
    "#     test = pickle.load(f)\n",
    "    \n",
    "X_test = data.test_orig   # test['features']\n",
    "y_test = data.test_labels # test['labels']\n",
    "X_test = X_test.astype('float32')\n",
    "X_test /= 255\n",
    "X_test -= 0.5\n",
    "Y_test = y_test\n",
    "# Y_test = np_utils.to_categorical(y_test, 43)\n",
    "\n",
    "loss, accuracy = model.evaluate(X_test, Y_test)\n",
    "\n",
    "print('loss: ', loss)\n",
    "print('accuracy: ', accuracy)\n",
    "print()"
   ]
  },
  {
   "cell_type": "markdown",
   "metadata": {},
   "source": [
    "**Test Accuracy:** 0.9428"
   ]
  },
  {
   "cell_type": "markdown",
   "metadata": {},
   "source": [
    "## Summary\n",
    "Keras is a great tool to use if you want to quickly build a neural network and evaluate performance."
   ]
  }
 ],
 "metadata": {
  "anaconda-cloud": {},
  "kernelspec": {
   "display_name": "Python [conda env:carnd]",
   "language": "python",
   "name": "conda-env-carnd-py"
  },
  "language_info": {
   "codemirror_mode": {
    "name": "ipython",
    "version": 3
   },
   "file_extension": ".py",
   "mimetype": "text/x-python",
   "name": "python",
   "nbconvert_exporter": "python",
   "pygments_lexer": "ipython3",
   "version": "3.5.2"
  }
 },
 "nbformat": 4,
 "nbformat_minor": 0
}
